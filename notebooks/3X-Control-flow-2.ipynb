{
 "cells": [
  {
   "cell_type": "markdown",
   "metadata": {},
   "source": [
    "# Control flow"
   ]
  },
  {
   "cell_type": "markdown",
   "metadata": {},
   "source": [
    "In this notebook we will look at what is called *control flow*, in a nutshell control flow is how we control a computer program, i.e. when should a program do what. \n",
    "\n",
    "\n",
    "\n",
    "This notebook is inspired by and draw on [Python for Everybody Exploring Data Using Python 3](https://py4e.com/) by Charles R. Severance, and awknowledgement and thanks goes to him and co-authors. This book and [Think python](http://greenteapress.com/wp/think-python-2e/) by Allen B. Downey are good introductions to python and programming. \n"
   ]
  },
  {
   "cell_type": "markdown",
   "metadata": {},
   "source": [
    "## Why? \n",
    "\n",
    "The obvious question is why do we want control flow? Why not just have a script/program that starts from the beginning and run to the end? The easy and useless response is that is not how it works. A more appropriate answer is that by controlling the flow of a script we can have much shorter loops, more readible code, and importantly, more flexible code. What all of this means and how to apply it is the aim of this notebook.\n",
    "\n"
   ]
  },
  {
   "cell_type": "markdown",
   "metadata": {},
   "source": [
    "## How\n",
    "\n",
    "There are various options and posibilities when it come to handling control flow and the best option depends on the task at hand. We can group them into:\n",
    "\n",
    "* Boolean expressions\n",
    "* Conditional exceution\n",
    "* Loops\n",
    "\n",
    "For each of these groups there are different elements in them. \n",
    "\n",
    "Let us start from the simplest: *Boolean statements*\n"
   ]
  },
  {
   "cell_type": "markdown",
   "metadata": {},
   "source": [
    "## Boolean expressions\n",
    "\n",
    "A boolean expressions is an expressions that evaluates to **TRUE** or **FALSE**. Breaking it down the expression comapare two operands and produces a **True** or **False**. For example:\n",
    "\n",
    "```python\n",
    "x = 1\n",
    "y = 2\n",
    "x == y\n",
    "```\n",
    "\n",
    "If ```x``` is equal to ```y``` True will be returned otherwise False. Here ```x``` and ```y``` are the ```==``` are an operator.  Any boolean expresion have this structure of two operands compared with an operator.\n",
    "\n",
    "The operator can be one of the following:\n",
    "\n",
    "```python\n",
    "x == y # x is equal to y\n",
    "x != y # x is not equal to y\n",
    "x > y # x is greater than y\n",
    "x < y # x is less than y\n",
    "x >= y # x is greater than or equal to y\n",
    "x <= y # x is less than or equal to y\n",
    "x is y # x is the same as y\n",
    "x is not y # x is not the same as y\n",
    "```\n",
    "\n",
    "So depending on what you want to know the status of the operator needs to be set appropriotely."
   ]
  },
  {
   "cell_type": "markdown",
   "metadata": {},
   "source": [
    "### Exercise\n",
    "\n",
    "Below is a minimal example of a boolean statement.\n",
    "\n",
    "Change ```x``` and ```y``` to different values and try different operators. Try to guess what the returned value(s) will be be before executing the code."
   ]
  },
  {
   "cell_type": "code",
   "execution_count": 7,
   "metadata": {},
   "outputs": [
    {
     "data": {
      "text/plain": [
       "False"
      ]
     },
     "execution_count": 7,
     "metadata": {},
     "output_type": "execute_result"
    }
   ],
   "source": [
    "# code from above\n",
    "x = 1\n",
    "y = 2\n",
    "x == y"
   ]
  },
  {
   "cell_type": "markdown",
   "metadata": {},
   "source": [
    "## Logical operators\n",
    "\n",
    "There are three *logical operators*: **and**, **or**, and, **not**. They mean the almost same as in English. These logical operators can be used to chain together boolean expresions. We will return to these later.\n",
    "\n",
    "\n",
    "\n"
   ]
  },
  {
   "cell_type": "markdown",
   "metadata": {},
   "source": [
    "\n",
    "## Types of control \n",
    "\n",
    "* If/else statements\n",
    "* Loops \n",
    "* Boolean statements\n",
    "* Logical statements\n",
    "\n",
    "\n",
    "# Conditional statements\n",
    "## if/else statements\n",
    "\n",
    "1. Statement to be evaluated\n",
    "2. Statement of what will happen if (1) is true\n",
    "3. Statement of what will happen if (1) is not true\n",
    "\n",
    "### Example\n",
    "*If* the last digit of a social security number is even then subject is female, *else* the subject is male\n",
    "\n",
    "```python\n",
    "social_security_number = \"123456-1234\"\n",
    "if (int(social_security_number[-1]) % 2 == 0):\n",
    "    print(\"subject is female\")\n",
    "else:\n",
    "    print(\"subject is male\")\n",
    "```\n",
    "\n",
    "## Boolean statements"
   ]
  },
  {
   "cell_type": "code",
   "execution_count": 1,
   "metadata": {},
   "outputs": [
    {
     "data": {
      "text/plain": [
       "1"
      ]
     },
     "execution_count": 1,
     "metadata": {},
     "output_type": "execute_result"
    }
   ],
   "source": [
    "1 % 2"
   ]
  },
  {
   "cell_type": "markdown",
   "metadata": {},
   "source": [
    "## Exercises: if/else statements\n",
    "\n",
    "* Write a python if/else that evaluate if a number is even or odd and print \n",
    "    - try different numbers and different of numbers of digits in the number.\n",
    "* Extend the if/else statement to *print* if the person is older or younger that 25 years old \n"
   ]
  },
  {
   "cell_type": "code",
   "execution_count": null,
   "metadata": {},
   "outputs": [],
   "source": [
    "# code goes here\n"
   ]
  },
  {
   "cell_type": "markdown",
   "metadata": {},
   "source": [
    "# Boolean expressions\n",
    "\n",
    "* x != y # x is not equal to y\n",
    "* x > y # x is greater than y\n",
    "* x < y # x is less than y\n",
    "* x >= y # x is greater than or equal to y\n",
    "* x <= y # x is less than or equal to y"
   ]
  },
  {
   "cell_type": "markdown",
   "metadata": {},
   "source": [
    "# Logical operators\n",
    "\n",
    "* and\n",
    "* or \n",
    "* not"
   ]
  },
  {
   "cell_type": "markdown",
   "metadata": {},
   "source": [
    "# The anatomy of a loop\n",
    "\n",
    "* Statement to be evaluated\n",
    "* *Counter*\n",
    "* Code to be executed (code block)"
   ]
  },
  {
   "cell_type": "markdown",
   "metadata": {},
   "source": [
    "![while loop](./imgs/while-loop-if-else-even-vs-odd-animation-how-it-works.gif)"
   ]
  },
  {
   "cell_type": "markdown",
   "metadata": {},
   "source": [
    "## While loop example\n",
    "\n",
    "A while loop repeats until a condition is true or false\n",
    "\n",
    "```python\n",
    "n = 10\n",
    "counter = 1\n",
    "while counter < n:\n",
    "    print(counter)\n",
    "    counter += 1\n",
    "```"
   ]
  },
  {
   "cell_type": "markdown",
   "metadata": {},
   "source": [
    "### Exercises: while loops\n",
    "\n",
    "1. Write a *while loop* that keeps until after a random number of occurences.\n",
    "    - add a counter to know how many times it ran.\n",
    "2. Write a *while loop* that goes through the data generated below and adds one to the integer and assign it to a new variable."
   ]
  },
  {
   "cell_type": "code",
   "execution_count": null,
   "metadata": {},
   "outputs": [],
   "source": [
    "# code for 1\n",
    "\n",
    "import numpy as np\n",
    "random_number = np.random.randint(35, 76, 1)  \n",
    "\n",
    "# put your code below here\n",
    "\n"
   ]
  },
  {
   "cell_type": "code",
   "execution_count": null,
   "metadata": {},
   "outputs": [],
   "source": [
    "# code for 2\n",
    "\n",
    "import numpy as np\n",
    "data = np.random.randint(0, 10, 100)  # generate 100 integers between 0 & 10 (both included)\n",
    "\n",
    "# put your code below here\n"
   ]
  },
  {
   "cell_type": "code",
   "execution_count": null,
   "metadata": {},
   "outputs": [],
   "source": [
    "# Below is function, we get to them soon\n",
    "# Remember to change the last parameter of the \"check_while_loop\"\n",
    "def check_while_loop(orignial_data, new_data):\n",
    "    tmp = new_data - orignial_data\n",
    "    if tmp.max() != 1:\n",
    "        print(\"something went wrong\")\n",
    "    else:\n",
    "        print(\"success!\")\n",
    "        \n",
    "check_while_loop(data, your_data_here)"
   ]
  },
  {
   "cell_type": "markdown",
   "metadata": {},
   "source": [
    "## For loop example\n",
    "\n",
    "A for loop repeats a block of code a fixed amount of times."
   ]
  },
  {
   "cell_type": "code",
   "execution_count": 2,
   "metadata": {},
   "outputs": [
    {
     "name": "stdout",
     "output_type": "stream",
     "text": [
      "0\n",
      "1\n",
      "2\n",
      "3\n",
      "4\n",
      "5\n",
      "6\n",
      "7\n",
      "8\n",
      "9\n"
     ]
    }
   ],
   "source": [
    "n = 10\n",
    "for i in range(n):  # *i* = counter, *range(n)* the sequence\n",
    "    print(i)\n",
    "    "
   ]
  },
  {
   "cell_type": "markdown",
   "metadata": {},
   "source": [
    "### Exercises: for loops\n",
    "1. Write a *for loop* that keeps running until after a random number of occurences.\n",
    "    - add a counter to know how many times it ran.\n",
    "2. Write a *for loop* that goes through the data generated below and adds one to the integer and assign it to a new variable.\n"
   ]
  },
  {
   "cell_type": "code",
   "execution_count": null,
   "metadata": {},
   "outputs": [],
   "source": [
    "# code for 1\n",
    "\n",
    "import numpy as np\n",
    "random_number = np.random.randint(35, 76, 1)  \n",
    "\n",
    "# put your code below here\n",
    "\n"
   ]
  },
  {
   "cell_type": "code",
   "execution_count": null,
   "metadata": {},
   "outputs": [],
   "source": [
    "# code for 2\n",
    "\n",
    "import numpy as np\n",
    "data = np.random.randint(0, 10, 100)  # generate 100 integers between 0 & 10 (both included)\n",
    "\n",
    "# put your code below here\n"
   ]
  },
  {
   "cell_type": "code",
   "execution_count": null,
   "metadata": {},
   "outputs": [],
   "source": [
    "# Remember to change the last parameter of the \"check_for_loop\"\n",
    "def check_for_loop(orignial_data, new_data):\n",
    "    tmp = new_data - orignial_data\n",
    "    if tmp.max() != 1:\n",
    "        print(\"something went wrong\")\n",
    "    else:\n",
    "        print(\"success!\")\n",
    "        \n",
    "check_for_loop(data, your_data_here)"
   ]
  }
 ],
 "metadata": {
  "kernelspec": {
   "display_name": "Python 3",
   "language": "python",
   "name": "python3"
  },
  "language_info": {
   "codemirror_mode": {
    "name": "ipython",
    "version": 3
   },
   "file_extension": ".py",
   "mimetype": "text/x-python",
   "name": "python",
   "nbconvert_exporter": "python",
   "pygments_lexer": "ipython3",
   "version": "3.7.0"
  }
 },
 "nbformat": 4,
 "nbformat_minor": 2
}
